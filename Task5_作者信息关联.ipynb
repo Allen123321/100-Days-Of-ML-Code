{
  "nbformat": 4,
  "nbformat_minor": 0,
  "metadata": {
    "colab": {
      "name": "Task5 作者信息关联.ipynb",
      "provenance": [],
      "authorship_tag": "ABX9TyPCarplV8KNKRUsH2Vt22Nk",
      "include_colab_link": true
    },
    "kernelspec": {
      "name": "python3",
      "display_name": "Python 3"
    }
  },
  "cells": [
    {
      "cell_type": "markdown",
      "metadata": {
        "id": "view-in-github",
        "colab_type": "text"
      },
      "source": [
        "<a href=\"https://colab.research.google.com/github/Allen123321/100-Days-Of-ML-Code/blob/master/Task5_%E4%BD%9C%E8%80%85%E4%BF%A1%E6%81%AF%E5%85%B3%E8%81%94.ipynb\" target=\"_parent\"><img src=\"https://colab.research.google.com/assets/colab-badge.svg\" alt=\"Open In Colab\"/></a>"
      ]
    },
    {
      "cell_type": "markdown",
      "metadata": {
        "id": "xG78BHOCoFns"
      },
      "source": [
        "## 任务说明\r\n",
        "+ 任务主题：作者关联（数据建模任务），对论文作者关系进行建模，统计最常出现的作者关系；\r\n",
        "+ 任务内容：构建作者关系图，挖掘作者关系\r\n",
        "+ 任务成果：论文作者知识图谱、图关系挖掘"
      ]
    },
    {
      "cell_type": "markdown",
      "metadata": {
        "id": "dhu8gm4IoeOb"
      },
      "source": [
        "## 数据处理步骤\r\n",
        "将作者列表进行处理，并完成统计。具体步骤如下：\r\n",
        "+ 将论文第一作者与其他作者（论文非第一作者）构建图；\r\n",
        "+ 使用图算法统计图中作者与其他作者的联系；"
      ]
    },
    {
      "cell_type": "markdown",
      "metadata": {
        "id": "rkXrfqxro4pX"
      },
      "source": [
        "## 社交网络分析\r\n",
        "图是复杂网络研究中的一个重要概念。Graph是用点和线来刻画离散事物集合中的每对事物间以某种方式相联系的数学模型。Graph在现实世界中随处可见，如交通运输图、旅游图、流程图等。利用图可以描述现实生活中的许多事物，如用点可以表示交叉口，点之间的连线表示路径，这样就可以轻而易举的描绘出一个交通运输网络。"
      ]
    },
    {
      "cell_type": "markdown",
      "metadata": {
        "id": "AwM4Q6tepRml"
      },
      "source": [
        "## 图类型\r\n",
        "+ 无向图，忽略了两节点间边的方向。\r\n",
        "+ 指有向图，考虑了边的有向性。\r\n",
        "+ 多重无向图，即两个结点之间的边数多于一条，又允许顶点通过同一条边和自己关联。"
      ]
    },
    {
      "cell_type": "markdown",
      "metadata": {
        "id": "8A-Vmns8p0gf"
      },
      "source": [
        "## 图统计指标\r\n",
        "+ 度：是指和该节点相关联的边的条数，又称关联度。对于有向图，节点的入度 是指进入该节点的边的条数；节点的出度是指从该节点出发的边的条数；\r\n",
        "+ 迪杰斯特拉路径：.从一个源点到其它各点的最短路径，可使用迪杰斯特拉算法来求最短路径；\r\n",
        "+ 连通图：在一个无向图 G 中，若从顶点i到顶点j有路径相连，则称i和j是连通的。如果 G 是有向图，那么连接i和j的路径中所有的边都必须同向。如果图中任意两点都是连通的，那么图被称作连通图。如果此图是有向图，则称为强连通图。"
      ]
    },
    {
      "cell_type": "markdown",
      "metadata": {
        "id": "fZcFnirasVaX"
      },
      "source": [
        "加载数据集"
      ]
    },
    {
      "cell_type": "code",
      "metadata": {
        "colab": {
          "base_uri": "https://localhost:8080/"
        },
        "id": "LSV7rpobri7I",
        "outputId": "5ef5a6e1-6f01-4b5e-9d61-ee14d5d5f365"
      },
      "source": [
        "from google.colab import drive\r\n",
        "drive.mount('/content/gdrive/') #挂载google drive 加载数据集"
      ],
      "execution_count": 2,
      "outputs": [
        {
          "output_type": "stream",
          "text": [
            "Mounted at /content/gdrive/\n"
          ],
          "name": "stdout"
        }
      ]
    },
    {
      "cell_type": "code",
      "metadata": {
        "id": "Rhnu4l41sJBs"
      },
      "source": [
        "!cp -f  /content/gdrive/MyDrive/Colab\\ Notebooks/arxiv.zip  /content/"
      ],
      "execution_count": 3,
      "outputs": []
    },
    {
      "cell_type": "code",
      "metadata": {
        "colab": {
          "base_uri": "https://localhost:8080/"
        },
        "id": "rw7RLdp6sQVB",
        "outputId": "b9c0acc7-c3f5-44dd-90a6-1cbe3a49002d"
      },
      "source": [
        "!unzip -o /content/arxiv.zip  #解压数据集"
      ],
      "execution_count": 4,
      "outputs": [
        {
          "output_type": "stream",
          "text": [
            "Archive:  /content/arxiv.zip\n",
            "  inflating: arxiv-metadata-oai-snapshot.json  \n"
          ],
          "name": "stdout"
        }
      ]
    },
    {
      "cell_type": "code",
      "metadata": {
        "id": "LkVRFzGmoEnb"
      },
      "source": [
        "# 导入所需的package\r\n",
        "import seaborn as sns #用于画图\r\n",
        "from bs4 import BeautifulSoup #用于爬取arxiv的数据\r\n",
        "import re #用于正则表达式，匹配字符串的模式\r\n",
        "import requests #用于网络连接，发送网络请求，使用域名获取对应信息\r\n",
        "import json #读取数据，我们的数据为json格式的\r\n",
        "import pandas as pd #数据处理，数据分析\r\n",
        "import matplotlib.pyplot as plt #画图工具"
      ],
      "execution_count": 5,
      "outputs": []
    },
    {
      "cell_type": "code",
      "metadata": {
        "id": "c6RmGg0zre0g"
      },
      "source": [
        "def readArxivFile(path, columns=['id', 'submitter', 'authors', 'title', 'comments', 'journal-ref', 'doi',\r\n",
        "       'report-no', 'categories', 'license', 'abstract', 'versions',\r\n",
        "       'update_date', 'authors_parsed'], count=None):\r\n",
        "    '''\r\n",
        "    定义读取文件的函数\r\n",
        "        path: 文件路径\r\n",
        "        columns: 需要选择的列\r\n",
        "        count: 读取行数\r\n",
        "    '''\r\n",
        "    \r\n",
        "    data  = []\r\n",
        "    with open(path, 'r') as f: \r\n",
        "        for idx, line in enumerate(f): \r\n",
        "            if idx == count:\r\n",
        "                break\r\n",
        "                \r\n",
        "            d = json.loads(line)\r\n",
        "            d = {col : d[col] for col in columns}\r\n",
        "            data.append(d)\r\n",
        "\r\n",
        "    data = pd.DataFrame(data)\r\n",
        "    return data\r\n",
        "\r\n",
        "data = readArxivFile('arxiv-metadata-oai-snapshot.json', \r\n",
        "                     ['id', 'authors','authors_parsed','update_date','categories'])"
      ],
      "execution_count": 7,
      "outputs": []
    },
    {
      "cell_type": "markdown",
      "metadata": {
        "id": "slKiQKqWt_ZP"
      },
      "source": [
        "筛选出2019年后，CV领域的数据"
      ]
    },
    {
      "cell_type": "code",
      "metadata": {
        "id": "tcr3acHKtcQF"
      },
      "source": [
        "data[\"year\"] = pd.to_datetime(data[\"update_date\"]).dt.year #将update_date从例如2019-02-20的str变为datetime格式，并提取处year\r\n",
        "del data[\"update_date\"] #删除 update_date特征，\r\n",
        "data = data[data[\"year\"] >= 2019] #找出 year 中2019年以后的数据，并将其他数据删除"
      ],
      "execution_count": 8,
      "outputs": []
    },
    {
      "cell_type": "code",
      "metadata": {
        "colab": {
          "base_uri": "https://localhost:8080/",
          "height": 198
        },
        "id": "F4AMipAhtil0",
        "outputId": "b938db75-e12b-45ca-b253-d3e1efdcfdcf"
      },
      "source": [
        "data.head()"
      ],
      "execution_count": 9,
      "outputs": [
        {
          "output_type": "execute_result",
          "data": {
            "text/html": [
              "<div>\n",
              "<style scoped>\n",
              "    .dataframe tbody tr th:only-of-type {\n",
              "        vertical-align: middle;\n",
              "    }\n",
              "\n",
              "    .dataframe tbody tr th {\n",
              "        vertical-align: top;\n",
              "    }\n",
              "\n",
              "    .dataframe thead th {\n",
              "        text-align: right;\n",
              "    }\n",
              "</style>\n",
              "<table border=\"1\" class=\"dataframe\">\n",
              "  <thead>\n",
              "    <tr style=\"text-align: right;\">\n",
              "      <th></th>\n",
              "      <th>id</th>\n",
              "      <th>authors</th>\n",
              "      <th>authors_parsed</th>\n",
              "      <th>categories</th>\n",
              "      <th>year</th>\n",
              "    </tr>\n",
              "  </thead>\n",
              "  <tbody>\n",
              "    <tr>\n",
              "      <th>296</th>\n",
              "      <td>0704.0297</td>\n",
              "      <td>Sung-Chul Yoon, Philipp Podsiadlowski and Step...</td>\n",
              "      <td>[[Yoon, Sung-Chul, ], [Podsiadlowski, Philipp,...</td>\n",
              "      <td>astro-ph</td>\n",
              "      <td>2019</td>\n",
              "    </tr>\n",
              "    <tr>\n",
              "      <th>341</th>\n",
              "      <td>0704.0342</td>\n",
              "      <td>B. Dugmore and PP. Ntumba</td>\n",
              "      <td>[[Dugmore, B., ], [Ntumba, PP., ]]</td>\n",
              "      <td>math.AT</td>\n",
              "      <td>2019</td>\n",
              "    </tr>\n",
              "    <tr>\n",
              "      <th>359</th>\n",
              "      <td>0704.0360</td>\n",
              "      <td>T.V. Zaqarashvili and K Murawski</td>\n",
              "      <td>[[Zaqarashvili, T. V., ], [Murawski, K, ]]</td>\n",
              "      <td>astro-ph</td>\n",
              "      <td>2019</td>\n",
              "    </tr>\n",
              "    <tr>\n",
              "      <th>524</th>\n",
              "      <td>0704.0525</td>\n",
              "      <td>Sezgin Aygun, Ismail Tarhan, Husnu Baysal</td>\n",
              "      <td>[[Aygun, Sezgin, ], [Tarhan, Ismail, ], [Baysa...</td>\n",
              "      <td>gr-qc</td>\n",
              "      <td>2019</td>\n",
              "    </tr>\n",
              "    <tr>\n",
              "      <th>534</th>\n",
              "      <td>0704.0535</td>\n",
              "      <td>Antonio Pipino (1,3), Thomas H. Puzia (2,4), a...</td>\n",
              "      <td>[[Pipino, Antonio, ], [Puzia, Thomas H., ], [M...</td>\n",
              "      <td>astro-ph</td>\n",
              "      <td>2019</td>\n",
              "    </tr>\n",
              "  </tbody>\n",
              "</table>\n",
              "</div>"
            ],
            "text/plain": [
              "            id  ...  year\n",
              "296  0704.0297  ...  2019\n",
              "341  0704.0342  ...  2019\n",
              "359  0704.0360  ...  2019\n",
              "524  0704.0525  ...  2019\n",
              "534  0704.0535  ...  2019\n",
              "\n",
              "[5 rows x 5 columns]"
            ]
          },
          "metadata": {
            "tags": []
          },
          "execution_count": 9
        }
      ]
    },
    {
      "cell_type": "code",
      "metadata": {
        "id": "zLmz2WoettYu"
      },
      "source": [
        "data = data[data['categories'].apply(lambda x : 'cs.CV' in x)] # 选择类别为cs.CV下面的论文"
      ],
      "execution_count": 10,
      "outputs": []
    },
    {
      "cell_type": "code",
      "metadata": {
        "colab": {
          "base_uri": "https://localhost:8080/",
          "height": 198
        },
        "id": "4NRnzKeTt1Vo",
        "outputId": "a5ce2c7f-4cca-44e2-f6df-71c937bf648c"
      },
      "source": [
        "data.head()"
      ],
      "execution_count": 11,
      "outputs": [
        {
          "output_type": "execute_result",
          "data": {
            "text/html": [
              "<div>\n",
              "<style scoped>\n",
              "    .dataframe tbody tr th:only-of-type {\n",
              "        vertical-align: middle;\n",
              "    }\n",
              "\n",
              "    .dataframe tbody tr th {\n",
              "        vertical-align: top;\n",
              "    }\n",
              "\n",
              "    .dataframe thead th {\n",
              "        text-align: right;\n",
              "    }\n",
              "</style>\n",
              "<table border=\"1\" class=\"dataframe\">\n",
              "  <thead>\n",
              "    <tr style=\"text-align: right;\">\n",
              "      <th></th>\n",
              "      <th>id</th>\n",
              "      <th>authors</th>\n",
              "      <th>authors_parsed</th>\n",
              "      <th>categories</th>\n",
              "      <th>year</th>\n",
              "    </tr>\n",
              "  </thead>\n",
              "  <tbody>\n",
              "    <tr>\n",
              "      <th>48709</th>\n",
              "      <td>0802.1412</td>\n",
              "      <td>Mahesh Pal</td>\n",
              "      <td>[[Pal, Mahesh, ]]</td>\n",
              "      <td>cs.NE cs.CV</td>\n",
              "      <td>2019</td>\n",
              "    </tr>\n",
              "    <tr>\n",
              "      <th>122831</th>\n",
              "      <td>0905.1235</td>\n",
              "      <td>Serguei A. Mokhov, Stephen Sinclair, Ian Cl\\'e...</td>\n",
              "      <td>[[Mokhov, Serguei A., , for the MARF R&amp;D Group...</td>\n",
              "      <td>cs.SD cs.CL cs.CV cs.MM cs.NE</td>\n",
              "      <td>2019</td>\n",
              "    </tr>\n",
              "    <tr>\n",
              "      <th>274867</th>\n",
              "      <td>1107.2875</td>\n",
              "      <td>Chris Aholt, Bernd Sturmfels, Rekha Thomas</td>\n",
              "      <td>[[Aholt, Chris, ], [Sturmfels, Bernd, ], [Thom...</td>\n",
              "      <td>math.AG cs.CV</td>\n",
              "      <td>2019</td>\n",
              "    </tr>\n",
              "    <tr>\n",
              "      <th>288218</th>\n",
              "      <td>1109.3850</td>\n",
              "      <td>Dae-Woong Lee</td>\n",
              "      <td>[[Lee, Dae-Woong, ]]</td>\n",
              "      <td>cs.CV</td>\n",
              "      <td>2020</td>\n",
              "    </tr>\n",
              "    <tr>\n",
              "      <th>292514</th>\n",
              "      <td>1110.1208</td>\n",
              "      <td>Aman Chadha, Divya Jyoti, M. Mani Roja</td>\n",
              "      <td>[[Chadha, Aman, ], [Jyoti, Divya, ], [Roja, M....</td>\n",
              "      <td>cs.CV cs.CR cs.IT cs.MM eess.IV math.IT</td>\n",
              "      <td>2020</td>\n",
              "    </tr>\n",
              "  </tbody>\n",
              "</table>\n",
              "</div>"
            ],
            "text/plain": [
              "               id  ...  year\n",
              "48709   0802.1412  ...  2019\n",
              "122831  0905.1235  ...  2019\n",
              "274867  1107.2875  ...  2019\n",
              "288218  1109.3850  ...  2020\n",
              "292514  1110.1208  ...  2020\n",
              "\n",
              "[5 rows x 5 columns]"
            ]
          },
          "metadata": {
            "tags": []
          },
          "execution_count": 11
        }
      ]
    },
    {
      "cell_type": "markdown",
      "metadata": {
        "id": "q8uxCNAWuNET"
      },
      "source": [
        "创建作者链接的无向图："
      ]
    },
    {
      "cell_type": "code",
      "metadata": {
        "id": "z5d9xpL4uFrY"
      },
      "source": [
        "import networkx as nx \r\n",
        "# 创建无向图\r\n",
        "G = nx.Graph()\r\n",
        "# 只用五篇论文进行构建\r\n",
        "for row in data.iloc[:5].itertuples():\r\n",
        "  authors = row[3]\r\n",
        "  authors = [' '.join(x[:-1]) for x in authors]\r\n",
        "  # 第一个作者 与 其他作者链接\r\n",
        "  for author in authors[1:]:\r\n",
        "    G.add_edge(authors[0],author) #　添加节点２，３并链接２３节点"
      ],
      "execution_count": 23,
      "outputs": []
    },
    {
      "cell_type": "code",
      "metadata": {
        "colab": {
          "base_uri": "https://localhost:8080/",
          "height": 319
        },
        "id": "RI9QQw_4wQbV",
        "outputId": "349f3866-38a7-4845-84c7-5dbb4d5bebc4"
      },
      "source": [
        "# 将作者关系图进行绘制：\r\n",
        "nx.draw(G, with_labels=True)"
      ],
      "execution_count": 24,
      "outputs": [
        {
          "output_type": "display_data",
          "data": {
            "image/png": "[encoded data removed]",
            "text/plain": [
              "<Figure size 432x288 with 1 Axes>"
            ]
          },
          "metadata": {
            "tags": []
          }
        }
      ]
    },
    {
      "cell_type": "code",
      "metadata": {
        "colab": {
          "base_uri": "https://localhost:8080/"
        },
        "id": "w3C8LpUJw9zd",
        "outputId": "81d718a0-537f-4c6f-f405-e58cab45a08a"
      },
      "source": [
        "try:\r\n",
        "    print(nx.dijkstra_path(G, 'Chadha Aman', 'Jyoti Divya'))  # 求最短路径\r\n",
        "except:\r\n",
        "    print('No path')"
      ],
      "execution_count": 25,
      "outputs": [
        {
          "output_type": "stream",
          "text": [
            "['Chadha Aman', 'Jyoti Divya']\n"
          ],
          "name": "stdout"
        }
      ]
    },
    {
      "cell_type": "code",
      "metadata": {
        "colab": {
          "base_uri": "https://localhost:8080/"
        },
        "id": "WYh9kgb38h9t",
        "outputId": "039293cf-b389-403a-9240-a6b176b91e2e"
      },
      "source": [
        "try:\r\n",
        "    print(nx.dijkstra_path(G, 'Roja M. Mani', 'Jyoti Divya'))  # 求最短路径\r\n",
        "except:\r\n",
        "    print('No path')"
      ],
      "execution_count": 27,
      "outputs": [
        {
          "output_type": "stream",
          "text": [
            "['Roja M. Mani', 'Chadha Aman', 'Jyoti Divya']\n"
          ],
          "name": "stdout"
        }
      ]
    },
    {
      "cell_type": "markdown",
      "metadata": {
        "id": "vvKpjsxP-oup"
      },
      "source": [
        "如果我们500片论文构建图，则可以得到更加完整作者关系，并选择最大联通子图进行绘制，折线图为子图节点度值。"
      ]
    },
    {
      "cell_type": "code",
      "metadata": {
        "id": "s4T8DEk6-ph_"
      },
      "source": [
        "G1 = nx.Graph()\r\n",
        "\r\n",
        "for row in data.iloc[:1000].itertuples():\r\n",
        "    authors = row[3]\r\n",
        "    authors = [' '.join(x[:-1]) for x in authors]\r\n",
        "    \r\n",
        "    # 第一个作者 与 其他作者链接\r\n",
        "    for author in authors[1:]:\r\n",
        "        G1.add_edge(authors[0],author) #　添加节点２，３并链接２３节点"
      ],
      "execution_count": 31,
      "outputs": []
    },
    {
      "cell_type": "markdown",
      "metadata": {
        "id": "Aa7WKVT-CWCc"
      },
      "source": [
        "对数图<br>\r\n",
        "所谓对数图，实际上就是使用对数坐标绘制的图形。对于对数刻度来说，其间隔表示的是变量的值在数量级上的变化，这与线性刻度有很大的不同。对数图又分为两种不同的类型，其中一种称为双对数图，它的特点是两个坐标轴都采用对数刻度，对应的matplotlib函数是matplotlib.pyplot.loglog()。半对数图的一个坐标轴采用线性标度，另一个坐标轴使用对数刻度，它对应的matplotlib API是semilogx()函数和smilogy()函数。在双对数图上，幂律表现为直线；在半对数图上，直线则代表的是指数律。\r\n",
        "\r\n",
        "numpy中的polyfit()函数可以用多项式来拟合数据\r\n",
        "\r\n",
        "numpy中的polyval()函数可以用来对上面得到的多项式进行评估。"
      ]
    },
    {
      "cell_type": "code",
      "metadata": {
        "colab": {
          "base_uri": "https://localhost:8080/",
          "height": 408
        },
        "id": "eZ1rDXrb_KHc",
        "outputId": "706f340f-20d9-4f44-ecf0-740290d62c56"
      },
      "source": [
        "degree_sequence = sorted([d for n, d in G1.degree()], reverse=True)  # 节点度是与节点相邻的边数。\r\n",
        "dmax = max(degree_sequence)\r\n",
        "\r\n",
        "plt.figure(figsize=(10, 6))\r\n",
        "plt.loglog(degree_sequence, \"r-\", marker=\"o\") # 对数图\r\n",
        "plt.title(\"Degree rank plot\")\r\n",
        "plt.ylabel(\"degree\")\r\n",
        "plt.xlabel(\"rank\")\r\n",
        "\r\n",
        "# draw graph in inset\r\n",
        "plt.axes([0.45, 0.45, 0.45, 0.45])\r\n",
        "Gcc = G1.subgraph(sorted(nx.connected_components(G1), key=len, reverse=True)[0]) ## G中相连组件最多的图\r\n",
        "\r\n",
        "pos = nx.spring_layout(Gcc)\r\n",
        "plt.axis(\"off\")\r\n",
        "nx.draw_networkx_nodes(Gcc, pos, node_size=20)\r\n",
        "nx.draw_networkx_edges(Gcc, pos, alpha=0.4)\r\n",
        "plt.show()"
      ],
      "execution_count": 34,
      "outputs": [
        {
          "output_type": "display_data",
          "data": {
            "image/png": "[encoded data removed]",
            "text/plain": [
              "<Figure size 720x432 with 2 Axes>"
            ]
          },
          "metadata": {
            "tags": [],
            "needs_background": "light"
          }
        }
      ]
    },
    {
      "cell_type": "code",
      "metadata": {
        "colab": {
          "base_uri": "https://localhost:8080/",
          "height": 484
        },
        "id": "MqYJem7AREz6",
        "outputId": "a535621f-56fc-4e0d-915d-6713f13bd990"
      },
      "source": [
        "plt.figure(figsize=(20, 14))\r\n",
        "plt.axes([0.45, 0.45, 0.45, 0.45])\r\n",
        "Gcc = G1.subgraph(sorted(nx.connected_components(G1), key=len, reverse=True)[1]) \r\n",
        "\r\n",
        "pos = nx.spring_layout(Gcc)\r\n",
        "plt.axis(\"off\")\r\n",
        "nx.draw_networkx_nodes(Gcc, pos, node_size=20)\r\n",
        "nx.draw_networkx_edges(Gcc, pos, alpha=0.4)\r\n",
        "plt.show()"
      ],
      "execution_count": 49,
      "outputs": [
        {
          "output_type": "display_data",
          "data": {
            "image/png": "[encoded data removed]",
            "text/plain": [
              "<Figure size 1440x1008 with 1 Axes>"
            ]
          },
          "metadata": {
            "tags": []
          }
        }
      ]
    }
  ]
}